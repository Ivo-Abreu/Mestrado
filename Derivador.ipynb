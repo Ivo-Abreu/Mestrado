{
 "cells": [
  {
   "cell_type": "markdown",
   "metadata": {},
   "source": [
    "# Criador de derivações"
   ]
  },
  {
   "cell_type": "code",
   "execution_count": 79,
   "metadata": {},
   "outputs": [],
   "source": [
    "import pandas as pd\n",
    "# from tqdm import tqdm\n",
    "from time import time\n",
    "# from timer import timer\n",
    "from sklearn.feature_selection import SelectFromModel\n",
    "from sklearn.ensemble import RandomForestClassifier\n",
    "from sklearn.model_selection import StratifiedKFold\n",
    "from sklearn.feature_selection import RFECV\n",
    "\n",
    "# Caminho para os arquivos treino e teste\n",
    "path = \"hai/hai-22.04/\"\n",
    "\n",
    "# Seleção dos arquivos. Atentar caso apenas arquivo de teste\n",
    "file1 = \"train2.csv\"\n",
    "file2 = \"test1.csv\"\n",
    "\n",
    "# Variáveis para nome da derivação\n",
    "hai = \"hai22\"\n",
    "tr = \"_te2\"\n",
    "te = \"_te4\"\n",
    "mod = \"_sfm\"\n",
    "# mod = \"_ext-sfm\"\n",
    "# mod = \"_rfcv10\"\n",
    "\n",
    "# Caractere de separação do csv (HAI-20:';')\n",
    "sep = ','\n",
    "\n",
    "# Lista de períodos para geração de features\n",
    "periodos = [5,10] \n",
    "\n",
    "# Parâmentro de paralelização do scikit-learn\n",
    "n_jobs = 14\n",
    "\n",
    "# Parâmetro de aleatorização\n",
    "random_state = 2023"
   ]
  },
  {
   "cell_type": "markdown",
   "metadata": {},
   "source": [
    "## Funções"
   ]
  },
  {
   "cell_type": "markdown",
   "metadata": {},
   "source": [
    "### Função para geração de features (Extended)"
   ]
  },
  {
   "cell_type": "code",
   "execution_count": 2,
   "metadata": {},
   "outputs": [],
   "source": [
    "def featurize(df,periods):\n",
    "    resultado = pd.DataFrame()\n",
    "    for column in df.columns:\n",
    "        if column in ['Attack','attack','attack_P1','attack_P2','attack_P3']:\n",
    "            continue\n",
    "        s = df[column]\n",
    "\n",
    "        for span in periods:\n",
    "            minv = s.rolling(window=span,min_periods=span).min()\n",
    "            maxv = s.rolling(window=span,min_periods=span).max()\n",
    "            smav = s.rolling(window=span,min_periods=span).mean()\n",
    "            stdv = s.rolling(window=span,min_periods=span).std()\n",
    "            aux_min = [] \n",
    "            aux_max = []\n",
    "            aux_sma = []\n",
    "            aux_std = []\n",
    "            for i in range(span):\n",
    "                pmin = s.rolling(window=i+1,min_periods=i+1).min()[:i+1]\n",
    "                aux_min.append(pmin.tail(1).values[0])\n",
    "                pmax = s.rolling(window=i+1,min_periods=i+1).max()[:i+1]\n",
    "                aux_max.append(pmax.tail(1).values[0])\n",
    "                psma = s.rolling(window=i+1,min_periods=i+1).mean()[:i+1]\n",
    "                aux_sma.append(psma.tail(1).values[0])\n",
    "                pstd = s.rolling(window=i+1,min_periods=i+1).std()[:i+1]\n",
    "                aux_std.append(pstd.tail(1).values[0])\n",
    "            minv[0:span-1] = pd.Series(aux_min)[0:span-1]\n",
    "            maxv[0:span-1] = pd.Series(aux_max)[0:span-1]\n",
    "            smav[0:span-1] = pd.Series(aux_sma)[0:span-1]\n",
    "            stdv[0:span-1] = pd.Series(aux_std)[0:span-1].fillna(0)\n",
    "            emav = pd.Series(s.ewm(span=span,adjust=False).mean())\n",
    "            resultado[\"Min\"+str(span)+\"_\"+column] = minv\n",
    "            resultado[\"Max\"+str(span)+\"_\"+column] = maxv\n",
    "            resultado[\"SMA\"+str(span)+\"_\"+column] = smav\n",
    "            resultado[\"STD\"+str(span)+\"_\"+column] = stdv\n",
    "            resultado[\"EMA\"+str(span)+\"_\"+column] = emav\n",
    "        resultado = resultado.copy()\n",
    "    return resultado.copy()"
   ]
  },
  {
   "cell_type": "markdown",
   "metadata": {},
   "source": [
    "### Função para seleção por SelectFromModel"
   ]
  },
  {
   "cell_type": "code",
   "execution_count": 3,
   "metadata": {},
   "outputs": [],
   "source": [
    "def getSFM(df,y):\n",
    "    selector_RF = SelectFromModel(estimator=RandomForestClassifier(max_depth=20,n_jobs=n_jobs,random_state=random_state)).fit(df,y)\n",
    "    data = df.loc[:,selector_RF.get_support()].copy()\n",
    "    return data"
   ]
  },
  {
   "cell_type": "markdown",
   "metadata": {},
   "source": [
    "### Função para seleção por Recursive Feature Elimination com Cross Validation de 10-Fold"
   ]
  },
  {
   "cell_type": "code",
   "execution_count": 4,
   "metadata": {},
   "outputs": [],
   "source": [
    "def rfecv10(df,y):\n",
    "    estimator = RandomForestClassifier(max_depth=20,random_state=random_state)\n",
    "    min_features_to_select = 1\n",
    "    rfecv = RFECV(estimator=estimator,cv=StratifiedKFold(10),n_jobs=n_jobs,scoring=\"f1\",min_features_to_select=min_features_to_select)\n",
    "    rfecv.fit(df, y)\n",
    "    data = df.loc[:,rfecv.get_support()].copy()\n",
    "    return data"
   ]
  },
  {
   "cell_type": "markdown",
   "metadata": {},
   "source": [
    "## Carga do dataset ou par de dataset\n",
    "Escolher conforme construção da derivação (train#.csv+test#.csv ou apenas test#.csv)"
   ]
  },
  {
   "cell_type": "code",
   "execution_count": 72,
   "metadata": {},
   "outputs": [
    {
     "name": "stdout",
     "output_type": "stream",
     "text": [
      "(201600, 88)\n",
      "(86400, 88)\n",
      "(288000, 88)\n"
     ]
    }
   ],
   "source": [
    "# PAR\n",
    "df1 = pd.read_csv(path+file1,sep=sep)\n",
    "df2 = pd.read_csv(path+file2,sep=sep)\n",
    "dft = pd.concat([df1,df2],axis=0).reset_index(drop=True)\n",
    "print(df1.shape)\n",
    "print(df2.shape)\n",
    "print(dft.shape)"
   ]
  },
  {
   "cell_type": "code",
   "execution_count": 81,
   "metadata": {},
   "outputs": [
    {
     "data": {
      "text/plain": [
       "(129600, 88)"
      ]
     },
     "execution_count": 81,
     "metadata": {},
     "output_type": "execute_result"
    }
   ],
   "source": [
    "# SINGLE\n",
    "dft = pd.read_csv(path+file1,sep=sep)\n",
    "dft.shape"
   ]
  },
  {
   "cell_type": "markdown",
   "metadata": {},
   "source": [
    "## Checando informações, retirando features invariáveis e timestamps"
   ]
  },
  {
   "cell_type": "code",
   "execution_count": 82,
   "metadata": {},
   "outputs": [
    {
     "data": {
      "text/plain": [
       "Index(['timestamp', 'P1_B2004', 'P1_B2016', 'P1_B3004', 'P1_B3005', 'P1_B4002',\n",
       "       'P1_B4005', 'P1_B400B', 'P1_B4022', 'P1_FCV01D', 'P1_FCV01Z',\n",
       "       'P1_FCV02D', 'P1_FCV02Z', 'P1_FCV03D', 'P1_FCV03Z', 'P1_FT01',\n",
       "       'P1_FT01Z', 'P1_FT02', 'P1_FT02Z', 'P1_FT03', 'P1_FT03Z', 'P1_LCV01D',\n",
       "       'P1_LCV01Z', 'P1_LIT01', 'P1_PCV01D', 'P1_PCV01Z', 'P1_PCV02D',\n",
       "       'P1_PCV02Z', 'P1_PIT01', 'P1_PIT01_HH', 'P1_PIT02', 'P1_PP01AD',\n",
       "       'P1_PP01AR', 'P1_PP01BD', 'P1_PP01BR', 'P1_PP02D', 'P1_PP02R',\n",
       "       'P1_PP04', 'P1_PP04SP', 'P1_SOL01D', 'P1_SOL03D', 'P1_STSP', 'P1_TIT01',\n",
       "       'P1_TIT02', 'P1_TIT03', 'P2_24Vdc', 'P2_ATSW_Lamp', 'P2_AutoGO',\n",
       "       'P2_AutoSD', 'P2_Emerg', 'P2_MASW', 'P2_MASW_Lamp', 'P2_ManualGO',\n",
       "       'P2_ManualSD', 'P2_OnOff', 'P2_RTR', 'P2_SCO', 'P2_SCST', 'P2_SIT01',\n",
       "       'P2_TripEx', 'P2_VIBTR01', 'P2_VIBTR02', 'P2_VIBTR03', 'P2_VIBTR04',\n",
       "       'P2_VT01', 'P2_VTR01', 'P2_VTR02', 'P2_VTR03', 'P2_VTR04', 'P3_FIT01',\n",
       "       'P3_LCP01D', 'P3_LCV01D', 'P3_LH01', 'P3_LIT01', 'P3_LL01', 'P3_PIT01',\n",
       "       'P4_HT_FD', 'P4_HT_PO', 'P4_HT_PS', 'P4_LD', 'P4_ST_FD', 'P4_ST_GOV',\n",
       "       'P4_ST_LD', 'P4_ST_PO', 'P4_ST_PS', 'P4_ST_PT01', 'P4_ST_TT01',\n",
       "       'Attack'],\n",
       "      dtype='object')"
      ]
     },
     "execution_count": 82,
     "metadata": {},
     "output_type": "execute_result"
    }
   ],
   "source": [
    "dft.columns"
   ]
  },
  {
   "cell_type": "code",
   "execution_count": 8,
   "metadata": {},
   "outputs": [
    {
     "name": "stdout",
     "output_type": "stream",
     "text": [
      "<class 'pandas.core.frame.DataFrame'>\n",
      "RangeIndex: 180001 entries, 0 to 180000\n",
      "Data columns (total 88 columns):\n",
      " #   Column        Non-Null Count   Dtype  \n",
      "---  ------        --------------   -----  \n",
      " 0   timestamp     180001 non-null  object \n",
      " 1   P1_B2004      180001 non-null  float64\n",
      " 2   P1_B2016      180001 non-null  float64\n",
      " 3   P1_B3004      180001 non-null  float64\n",
      " 4   P1_B3005      180001 non-null  float64\n",
      " 5   P1_B4002      180001 non-null  float64\n",
      " 6   P1_B4005      180001 non-null  float64\n",
      " 7   P1_B400B      180001 non-null  float64\n",
      " 8   P1_B4022      180001 non-null  float64\n",
      " 9   P1_FCV01D     180001 non-null  float64\n",
      " 10  P1_FCV01Z     180001 non-null  float64\n",
      " 11  P1_FCV02D     180001 non-null  float64\n",
      " 12  P1_FCV02Z     180001 non-null  float64\n",
      " 13  P1_FCV03D     180001 non-null  float64\n",
      " 14  P1_FCV03Z     180001 non-null  float64\n",
      " 15  P1_FT01       180001 non-null  float64\n",
      " 16  P1_FT01Z      180001 non-null  float64\n",
      " 17  P1_FT02       180001 non-null  float64\n",
      " 18  P1_FT02Z      180001 non-null  float64\n",
      " 19  P1_FT03       180001 non-null  float64\n",
      " 20  P1_FT03Z      180001 non-null  float64\n",
      " 21  P1_LCV01D     180001 non-null  float64\n",
      " 22  P1_LCV01Z     180001 non-null  float64\n",
      " 23  P1_LIT01      180001 non-null  float64\n",
      " 24  P1_PCV01D     180001 non-null  float64\n",
      " 25  P1_PCV01Z     180001 non-null  float64\n",
      " 26  P1_PCV02D     180001 non-null  float64\n",
      " 27  P1_PCV02Z     180001 non-null  float64\n",
      " 28  P1_PIT01      180001 non-null  float64\n",
      " 29  P1_PIT01_HH   180001 non-null  int64  \n",
      " 30  P1_PIT02      180001 non-null  float64\n",
      " 31  P1_PP01AD     180001 non-null  int64  \n",
      " 32  P1_PP01AR     180001 non-null  int64  \n",
      " 33  P1_PP01BD     180001 non-null  int64  \n",
      " 34  P1_PP01BR     180001 non-null  int64  \n",
      " 35  P1_PP02D      180001 non-null  int64  \n",
      " 36  P1_PP02R      180001 non-null  int64  \n",
      " 37  P1_PP04       180001 non-null  float64\n",
      " 38  P1_PP04SP     180001 non-null  float64\n",
      " 39  P1_SOL01D     180001 non-null  int64  \n",
      " 40  P1_SOL03D     180001 non-null  int64  \n",
      " 41  P1_STSP       180001 non-null  int64  \n",
      " 42  P1_TIT01      180001 non-null  float64\n",
      " 43  P1_TIT02      180001 non-null  float64\n",
      " 44  P1_TIT03      180001 non-null  float64\n",
      " 45  P2_24Vdc      180001 non-null  float64\n",
      " 46  P2_ATSW_Lamp  180001 non-null  int64  \n",
      " 47  P2_AutoGO     180001 non-null  int64  \n",
      " 48  P2_AutoSD     180001 non-null  float64\n",
      " 49  P2_Emerg      180001 non-null  int64  \n",
      " 50  P2_MASW       180001 non-null  int64  \n",
      " 51  P2_MASW_Lamp  180001 non-null  int64  \n",
      " 52  P2_ManualGO   180001 non-null  int64  \n",
      " 53  P2_ManualSD   180001 non-null  float64\n",
      " 54  P2_OnOff      180001 non-null  int64  \n",
      " 55  P2_RTR        180001 non-null  int64  \n",
      " 56  P2_SCO        180001 non-null  int64  \n",
      " 57  P2_SCST       180001 non-null  float64\n",
      " 58  P2_SIT01      180001 non-null  int64  \n",
      " 59  P2_TripEx     180001 non-null  int64  \n",
      " 60  P2_VIBTR01    180001 non-null  float64\n",
      " 61  P2_VIBTR02    180001 non-null  float64\n",
      " 62  P2_VIBTR03    180001 non-null  float64\n",
      " 63  P2_VIBTR04    180001 non-null  float64\n",
      " 64  P2_VT01       180001 non-null  float64\n",
      " 65  P2_VTR01      180001 non-null  int64  \n",
      " 66  P2_VTR02      180001 non-null  int64  \n",
      " 67  P2_VTR03      180001 non-null  int64  \n",
      " 68  P2_VTR04      180001 non-null  int64  \n",
      " 69  P3_FIT01      180001 non-null  int64  \n",
      " 70  P3_LCP01D     180001 non-null  int64  \n",
      " 71  P3_LCV01D     180001 non-null  int64  \n",
      " 72  P3_LH01       180001 non-null  int64  \n",
      " 73  P3_LIT01      180001 non-null  int64  \n",
      " 74  P3_LL01       180001 non-null  int64  \n",
      " 75  P3_PIT01      180001 non-null  int64  \n",
      " 76  P4_HT_FD      180001 non-null  float64\n",
      " 77  P4_HT_PO      180001 non-null  float64\n",
      " 78  P4_HT_PS      180001 non-null  float64\n",
      " 79  P4_LD         180001 non-null  float64\n",
      " 80  P4_ST_FD      180001 non-null  float64\n",
      " 81  P4_ST_GOV     180001 non-null  int64  \n",
      " 82  P4_ST_LD      180001 non-null  float64\n",
      " 83  P4_ST_PO      180001 non-null  float64\n",
      " 84  P4_ST_PS      180001 non-null  float64\n",
      " 85  P4_ST_PT01    180001 non-null  int64  \n",
      " 86  P4_ST_TT01    180001 non-null  int64  \n",
      " 87  Attack        180001 non-null  int64  \n",
      "dtypes: float64(51), int64(36), object(1)\n",
      "memory usage: 120.9+ MB\n"
     ]
    }
   ],
   "source": [
    "dft.info()"
   ]
  },
  {
   "cell_type": "code",
   "execution_count": 83,
   "metadata": {},
   "outputs": [
    {
     "name": "stdout",
     "output_type": "stream",
     "text": [
      "<class 'pandas.core.frame.DataFrame'>\n",
      "RangeIndex: 129600 entries, 0 to 129599\n",
      "Data columns (total 69 columns):\n",
      " #   Column        Non-Null Count   Dtype  \n",
      "---  ------        --------------   -----  \n",
      " 0   P1_B2004      129600 non-null  float64\n",
      " 1   P1_B2016      129600 non-null  float64\n",
      " 2   P1_B3004      129600 non-null  float64\n",
      " 3   P1_B3005      129600 non-null  float64\n",
      " 4   P1_B4002      129600 non-null  float64\n",
      " 5   P1_B4005      129600 non-null  float64\n",
      " 6   P1_B400B      129600 non-null  float64\n",
      " 7   P1_B4022      129600 non-null  float64\n",
      " 8   P1_FCV01D     129600 non-null  float64\n",
      " 9   P1_FCV01Z     129600 non-null  float64\n",
      " 10  P1_FCV02D     129600 non-null  float64\n",
      " 11  P1_FCV02Z     129600 non-null  float64\n",
      " 12  P1_FCV03D     129600 non-null  float64\n",
      " 13  P1_FCV03Z     129600 non-null  float64\n",
      " 14  P1_FT01       129600 non-null  float64\n",
      " 15  P1_FT01Z      129600 non-null  float64\n",
      " 16  P1_FT02       129600 non-null  float64\n",
      " 17  P1_FT02Z      129600 non-null  float64\n",
      " 18  P1_FT03       129600 non-null  float64\n",
      " 19  P1_FT03Z      129600 non-null  float64\n",
      " 20  P1_LCV01D     129600 non-null  float64\n",
      " 21  P1_LCV01Z     129600 non-null  float64\n",
      " 22  P1_LIT01      129600 non-null  float64\n",
      " 23  P1_PCV01D     129600 non-null  float64\n",
      " 24  P1_PCV01Z     129600 non-null  float64\n",
      " 25  P1_PCV02D     129600 non-null  float64\n",
      " 26  P1_PCV02Z     129600 non-null  float64\n",
      " 27  P1_PIT01      129600 non-null  float64\n",
      " 28  P1_PIT02      129600 non-null  float64\n",
      " 29  P1_PP04       129600 non-null  float64\n",
      " 30  P1_PP04SP     129600 non-null  float64\n",
      " 31  P1_TIT01      129600 non-null  float64\n",
      " 32  P1_TIT02      129600 non-null  float64\n",
      " 33  P1_TIT03      129600 non-null  float64\n",
      " 34  P2_24Vdc      129600 non-null  float64\n",
      " 35  P2_ATSW_Lamp  129600 non-null  int64  \n",
      " 36  P2_AutoGO     129600 non-null  int64  \n",
      " 37  P2_AutoSD     129600 non-null  float64\n",
      " 38  P2_Emerg      129600 non-null  int64  \n",
      " 39  P2_MASW       129600 non-null  int64  \n",
      " 40  P2_MASW_Lamp  129600 non-null  int64  \n",
      " 41  P2_ManualGO   129600 non-null  int64  \n",
      " 42  P2_ManualSD   129600 non-null  float64\n",
      " 43  P2_OnOff      129600 non-null  int64  \n",
      " 44  P2_SCO        129600 non-null  int64  \n",
      " 45  P2_SCST       129600 non-null  float64\n",
      " 46  P2_SIT01      129600 non-null  int64  \n",
      " 47  P2_VIBTR01    129600 non-null  float64\n",
      " 48  P2_VIBTR02    129600 non-null  float64\n",
      " 49  P2_VIBTR03    129600 non-null  float64\n",
      " 50  P2_VIBTR04    129600 non-null  float64\n",
      " 51  P2_VT01       129600 non-null  float64\n",
      " 52  P3_FIT01      129600 non-null  int64  \n",
      " 53  P3_LCP01D     129600 non-null  int64  \n",
      " 54  P3_LCV01D     129600 non-null  int64  \n",
      " 55  P3_LIT01      129600 non-null  int64  \n",
      " 56  P3_PIT01      129600 non-null  int64  \n",
      " 57  P4_HT_FD      129600 non-null  float64\n",
      " 58  P4_HT_PO      129600 non-null  float64\n",
      " 59  P4_HT_PS      129600 non-null  float64\n",
      " 60  P4_LD         129600 non-null  float64\n",
      " 61  P4_ST_FD      129600 non-null  float64\n",
      " 62  P4_ST_GOV     129600 non-null  int64  \n",
      " 63  P4_ST_LD      129600 non-null  float64\n",
      " 64  P4_ST_PO      129600 non-null  float64\n",
      " 65  P4_ST_PS      129600 non-null  float64\n",
      " 66  P4_ST_PT01    129600 non-null  int64  \n",
      " 67  P4_ST_TT01    129600 non-null  int64  \n",
      " 68  Attack        129600 non-null  int64  \n",
      "dtypes: float64(51), int64(18)\n",
      "memory usage: 68.2 MB\n"
     ]
    }
   ],
   "source": [
    "timestamp = 'timestamp' # 'time', conforme versão do HAI\n",
    "dft.drop(columns=[timestamp],inplace=True)\n",
    "dft = dft.loc[:, dft.std() != 0.0]\n",
    "dft.info()"
   ]
  },
  {
   "cell_type": "markdown",
   "metadata": {},
   "source": [
    "## Seleção de features\n",
    "- SelectFromModel (SFM)\n",
    "- Extended + SelectFromModel (executar Ext e depois SFM)\n",
    "- RFECV10 (RFCV10)"
   ]
  },
  {
   "cell_type": "markdown",
   "metadata": {},
   "source": [
    "### SFM"
   ]
  },
  {
   "cell_type": "code",
   "execution_count": 84,
   "metadata": {},
   "outputs": [
    {
     "data": {
      "text/plain": [
       "(129600, 21)"
      ]
     },
     "execution_count": 84,
     "metadata": {},
     "output_type": "execute_result"
    }
   ],
   "source": [
    "y = dft['Attack'] # 'attack' para HAI-20\n",
    "#dft.drop(columns=['attack','attack_P1','attack_P2','attack_P3'],inplace=True) # HAI-20\n",
    "dft.drop(columns=['Attack'],inplace=True) # HAI-22\n",
    "data = getSFM(dft,y)\n",
    "data.shape"
   ]
  },
  {
   "cell_type": "markdown",
   "metadata": {},
   "source": [
    "### Extender - Geração de features\n",
    "Não esquecer de executar o SFM após."
   ]
  },
  {
   "cell_type": "code",
   "execution_count": 50,
   "metadata": {},
   "outputs": [
    {
     "data": {
      "text/plain": [
       "(288000, 727)"
      ]
     },
     "execution_count": 50,
     "metadata": {},
     "output_type": "execute_result"
    }
   ],
   "source": [
    "dft = pd.concat([dft,featurize(dft,periodos)],axis=1)\n",
    "dft.shape"
   ]
  },
  {
   "cell_type": "markdown",
   "metadata": {},
   "source": [
    "### Recursive Feature Elimination CrossValidation 10 fold"
   ]
  },
  {
   "cell_type": "code",
   "execution_count": 76,
   "metadata": {},
   "outputs": [
    {
     "data": {
      "text/plain": [
       "(288000, 66)"
      ]
     },
     "execution_count": 76,
     "metadata": {},
     "output_type": "execute_result"
    }
   ],
   "source": [
    "#y = dft['attack'] #HAI-20\n",
    "y = dft['Attack']\n",
    "#dft.drop(columns=['attack','attack_P1','attack_P2','attack_P3'],inplace=True) # HAI-20\n",
    "dft.drop(columns=['Attack'],inplace=True)\n",
    "data = rfecv10(dft,y)\n",
    "dft.shape"
   ]
  },
  {
   "cell_type": "markdown",
   "metadata": {},
   "source": [
    "## Criação do meta-atributo train\n",
    "Para identificar registros de origem em arquivos train#.csv"
   ]
  },
  {
   "cell_type": "code",
   "execution_count": 77,
   "metadata": {},
   "outputs": [],
   "source": [
    "data.loc[:df1.shape[0],'train'] = 1\n",
    "data.loc[df1.shape[0]:,'train'] = 0\n",
    "data['train'] = data['train'].astype(int)"
   ]
  },
  {
   "cell_type": "markdown",
   "metadata": {},
   "source": [
    "## Salvar o dataset derivado"
   ]
  },
  {
   "cell_type": "code",
   "execution_count": 85,
   "metadata": {},
   "outputs": [],
   "source": [
    "newfilename = hai+tr+te+mod+\".csv\"\n",
    "newpath = \"./datasets/\"\n",
    "y.name = \"Attack\"\n",
    "data = pd.concat([data,y],axis=1)\n",
    "data.to_csv(newpath+newfilename,sep=',',index=False)"
   ]
  }
 ],
 "metadata": {
  "kernelspec": {
   "display_name": "Python 3 (ipykernel)",
   "language": "python",
   "name": "python3"
  },
  "language_info": {
   "codemirror_mode": {
    "name": "ipython",
    "version": 3
   },
   "file_extension": ".py",
   "mimetype": "text/x-python",
   "name": "python",
   "nbconvert_exporter": "python",
   "pygments_lexer": "ipython3",
   "version": "3.9.2"
  }
 },
 "nbformat": 4,
 "nbformat_minor": 2
}
